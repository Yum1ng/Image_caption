{
 "cells": [
  {
   "cell_type": "code",
   "execution_count": 2,
   "metadata": {
    "collapsed": true
   },
   "outputs": [],
   "source": [
    "import argparse"
   ]
  },
  {
   "cell_type": "code",
   "execution_count": 4,
   "metadata": {
    "collapsed": false
   },
   "outputs": [
    {
     "name": "stderr",
     "output_type": "stream",
     "text": [
      "usage: __main__.py [-h] [--image IMAGE] [--encoder_path ENCODER_PATH]\n",
      "                   [--decoder_path DECODER_PATH] [--vocab_path VOCAB_PATH]\n",
      "                   [--crop_size CROP_SIZE] [--embed_size EMBED_SIZE]\n",
      "                   [--hidden_size HIDDEN_SIZE] [--num_layers NUM_LAYERS]\n",
      "__main__.py: error: unrecognized arguments: -f /run/user/18537/jupyter/kernel-b4c2295f-7768-4ed6-9211-68b7ba8c9708.json\n"
     ]
    },
    {
     "ename": "SystemExit",
     "evalue": "2",
     "output_type": "error",
     "traceback": [
      "An exception has occurred, use %tb to see the full traceback.\n",
      "\u001b[0;31mSystemExit\u001b[0m\u001b[0;31m:\u001b[0m 2\n"
     ]
    },
    {
     "name": "stderr",
     "output_type": "stream",
     "text": [
      "/home/AD/yaw109/anaconda3/lib/python3.6/site-packages/IPython/core/interactiveshell.py:2889: UserWarning: To exit: use 'exit', 'quit', or Ctrl-D.\n",
      "  warn(\"To exit: use 'exit', 'quit', or Ctrl-D.\", stacklevel=1)\n"
     ]
    }
   ],
   "source": [
    "parser = argparse.ArgumentParser()\n",
    "parser.add_argument('--image', type=str, default='./test_images/COCO_train2014_000000000828.jpg',\n",
    "                    help='input image for generating caption')\n",
    "parser.add_argument('--encoder_path', type=str, default='./models/encoder-2-3000.pkl',\n",
    "                    help='path for trained encoder')\n",
    "parser.add_argument('--decoder_path', type=str, default='./models/decoder-2-3000.pkl',\n",
    "                    help='path for trained decoder')\n",
    "parser.add_argument('--vocab_path', type=str, default='./data/vocab.pkl',\n",
    "                    help='path for vocabulary wrapper')\n",
    "parser.add_argument('--crop_size', type=int, default=224,\n",
    "                    help='size for center cropping images')\n",
    "parser.add_argument('--embed_size', type=int , default=256,\n",
    "                    help='dimension of word embedding vectors')\n",
    "parser.add_argument('--hidden_size', type=int , default=512,\n",
    "                    help='dimension of lstm hidden states')\n",
    "parser.add_argument('--num_layers', type=int , default=1 ,\n",
    "                    help='number of layers in lstm')\n",
    "args = parser.parse_args()"
   ]
  },
  {
   "cell_type": "code",
   "execution_count": null,
   "metadata": {
    "collapsed": true
   },
   "outputs": [],
   "source": []
  }
 ],
 "metadata": {
  "kernelspec": {
   "display_name": "Python 3",
   "language": "python",
   "name": "python3"
  },
  "language_info": {
   "codemirror_mode": {
    "name": "ipython",
    "version": 3
   },
   "file_extension": ".py",
   "mimetype": "text/x-python",
   "name": "python",
   "nbconvert_exporter": "python",
   "pygments_lexer": "ipython3",
   "version": "3.6.0"
  }
 },
 "nbformat": 4,
 "nbformat_minor": 2
}

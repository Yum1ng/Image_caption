{
 "cells": [
  {
   "cell_type": "code",
   "execution_count": 3,
   "metadata": {
    "collapsed": true
   },
   "outputs": [],
   "source": [
    "import argparse\n",
    "import torch\n",
    "import torch.nn as nn\n",
    "import numpy as np\n",
    "import os\n",
    "import pickle\n",
    "from data_loader import get_loader\n",
    "from build_vocab import Vocabulary\n",
    "from model import EncoderCNN, DecoderRNN\n",
    "from torch.autograd import Variable\n",
    "from torch.nn.utils.rnn import pack_padded_sequence\n",
    "from torchvision import transforms\n"
   ]
  },
  {
   "cell_type": "code",
   "execution_count": 3,
   "metadata": {
    "scrolled": true
   },
   "outputs": [
    {
     "name": "stderr",
     "output_type": "stream",
     "text": [
      "usage: ipykernel_launcher.py [-h] [--model_path MODEL_PATH]\n",
      "                             [--crop_size CROP_SIZE] [--vocab_path VOCAB_PATH]\n",
      "                             [--image_dir IMAGE_DIR]\n",
      "                             [--caption_path CAPTION_PATH]\n",
      "                             [--log_step LOG_STEP] [--save_step SAVE_STEP]\n",
      "                             [--embed_size EMBED_SIZE]\n",
      "                             [--hidden_size HIDDEN_SIZE]\n",
      "                             [--num_layers NUM_LAYERS]\n",
      "                             [--num_epochs NUM_EPOCHS]\n",
      "                             [--batch_size BATCH_SIZE]\n",
      "                             [--num_workers NUM_WORKERS]\n",
      "                             [--learning_rate LEARNING_RATE]\n",
      "ipykernel_launcher.py: error: unrecognized arguments: -f /run/user/59572/jupyter/kernel-35d700f8-5c0d-4d9a-9077-0e044190aee1.json\n"
     ]
    },
    {
     "ename": "SystemExit",
     "evalue": "2",
     "output_type": "error",
     "traceback": [
      "An exception has occurred, use %tb to see the full traceback.\n",
      "\u001b[0;31mSystemExit\u001b[0m\u001b[0;31m:\u001b[0m 2\n"
     ]
    },
    {
     "name": "stderr",
     "output_type": "stream",
     "text": [
      "/home/AD/y1qiao/anaconda2/envs/image_caption/lib/python3.5/site-packages/IPython/core/interactiveshell.py:2870: UserWarning: To exit: use 'exit', 'quit', or Ctrl-D.\n",
      "  warn(\"To exit: use 'exit', 'quit', or Ctrl-D.\", stacklevel=1)\n"
     ]
    }
   ],
   "source": [
    "parser = argparse.ArgumentParser()\n",
    "parser.add_argument('--model_path', type=str, default='/workspace/y1qiao/image-caption/models/' ,\n",
    "                        help='path for saving trained models')\n",
    "parser.add_argument('--crop_size', type=int, default=224 ,\n",
    "                        help='size for randomly cropping images')\n",
    "parser.add_argument('--vocab_path', type=str, default='/workspace/y1qiao/image-caption/data/vocab.pkl',\n",
    "                        help='path for vocabulary wrapper')\n",
    "parser.add_argument('--image_dir', type=str, default='/workspace/y1qiao/image-caption/data/resized2014' ,\n",
    "                        help='directory for resized images')\n",
    "parser.add_argument('--caption_path', type=str,\n",
    "                        default='/workspace/y1qiao/image-caption/data/annotations/captions_train2014.json',\n",
    "                        help='path for train annotation json file')\n",
    "parser.add_argument('--log_step', type=int , default=10,\n",
    "                        help='step size for prining log info')\n",
    "parser.add_argument('--save_step', type=int , default=1000,\n",
    "                        help='step size for saving trained models')\n",
    "\n",
    "# Model parameters\n",
    "parser.add_argument('--embed_size', type=int , default=256 ,\n",
    "                        help='dimension of word embedding vectors')\n",
    "parser.add_argument('--hidden_size', type=int , default=512 ,\n",
    "                        help='dimension of lstm hidden states')\n",
    "parser.add_argument('--num_layers', type=int , default=1 ,\n",
    "                        help='number of layers in lstm')\n",
    "\n",
    "#parser.add_argument('--num_epochs', type=int, default=5)\n",
    "parser.add_argument('--num_epochs', type=int, default=5)\n",
    "parser.add_argument('--batch_size', type=int, default=16)\n",
    "parser.add_argument('--num_workers', type=int, default=2)\n",
    "parser.add_argument('--learning_rate', type=float, default=0.001)\n",
    "args = parser.parse_args()\n",
    "print(args)\n"
   ]
  },
  {
   "cell_type": "code",
   "execution_count": 4,
   "metadata": {
    "collapsed": true
   },
   "outputs": [],
   "source": [
    "parser = argparse.ArgumentParser()"
   ]
  },
  {
   "cell_type": "code",
   "execution_count": 5,
   "metadata": {},
   "outputs": [
    {
     "data": {
      "text/plain": [
       "_StoreAction(option_strings=['--image_dir'], dest='image_dir', nargs=None, const=None, default='/workspace/y1qiao/image-caption/data/resized2014', type=<class 'str'>, choices=None, help='directory for resized images', metavar=None)"
      ]
     },
     "execution_count": 5,
     "metadata": {},
     "output_type": "execute_result"
    }
   ],
   "source": [
    "parser.add_argument('--model_path', type=str, default='/workspace/y1qiao/image-caption/models/' ,\n",
    "                        help='path for saving trained models')\n",
    "parser.add_argument('--crop_size', type=int, default=224 ,\n",
    "                        help='size for randomly cropping images')\n",
    "parser.add_argument('--vocab_path', type=str, default='/workspace/y1qiao/image-caption/data/vocab.pkl',\n",
    "                        help='path for vocabulary wrapper')\n",
    "parser.add_argument('--image_dir', type=str, default='/workspace/y1qiao/image-caption/data/resized2014' ,\n",
    "                        help='directory for resized images')\n"
   ]
  },
  {
   "cell_type": "code",
   "execution_count": null,
   "metadata": {
    "collapsed": true
   },
   "outputs": [],
   "source": []
  }
 ],
 "metadata": {
  "kernelspec": {
   "display_name": "Python 3",
   "language": "python",
   "name": "python3"
  },
  "language_info": {
   "codemirror_mode": {
    "name": "ipython",
    "version": 3
   },
   "file_extension": ".py",
   "mimetype": "text/x-python",
   "name": "python",
   "nbconvert_exporter": "python",
   "pygments_lexer": "ipython3",
   "version": "3.5.3"
  }
 },
 "nbformat": 4,
 "nbformat_minor": 2
}
